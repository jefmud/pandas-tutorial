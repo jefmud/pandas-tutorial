{
 "cells": [
  {
   "cell_type": "markdown",
   "metadata": {},
   "source": [
    "# Series\n",
    "\n",
    "A Series is the most basic data structure in Pandas.  A series is simply a one-dimensional labeled array which can contain any Python data type (e.g. ints, strings, floating point numbers, Python objects, etc.). Note that a Series is based on the Python NumPy array and can be converted back to a NumPy array with a single method-- this will become evident later.\n",
    "\n",
    "A series has data and index parameters\n",
    "\n",
    "The data can come from a Python dictionary (dict), a NumPy array, a Python list, \n",
    "\n",
    "* Python dict\n",
    "* ndarray\n",
    "* scalar value (like 5)"
   ]
  },
  {
   "cell_type": "code",
   "execution_count": 40,
   "metadata": {},
   "outputs": [
    {
     "name": "stdout",
     "output_type": "stream",
     "text": [
      "mylist= [1.1, 2.2, 3.3, 4.4, 5.5]\n",
      "myseries= 0    1.1\n",
      "1    2.2\n",
      "2    3.3\n",
      "3    4.4\n",
      "4    5.5\n",
      "dtype: float64\n"
     ]
    }
   ],
   "source": [
    "# import pandas as pd (this is a convention, not a rule)\n",
    "import pandas as pd\n",
    "# suppose we create a simple list\n",
    "mylist = [1.1,2.2,3.3,4.4,5.5]\n",
    "print(\"mylist=\", mylist)\n",
    "# a really simple series will function very much like a Python list\n",
    "myseries = pd.Series([1.1,2.2,3.3,4.4,5.5])\n",
    "print(\"myseries=\", myseries)"
   ]
  },
  {
   "cell_type": "code",
   "execution_count": 20,
   "metadata": {},
   "outputs": [
    {
     "name": "stdout",
     "output_type": "stream",
     "text": [
      "3.3\n",
      "3.3\n"
     ]
    }
   ],
   "source": [
    "# like a list, we can access an element by its integer index\n",
    "print(mylist[2])\n",
    "print(myseries[2])"
   ]
  },
  {
   "cell_type": "code",
   "execution_count": 21,
   "metadata": {},
   "outputs": [
    {
     "name": "stdout",
     "output_type": "stream",
     "text": [
      "1.1\n",
      "2.2\n",
      "3.3\n",
      "4.4\n",
      "5.5\n"
     ]
    }
   ],
   "source": [
    "# we can loop through the series, just like a list\n",
    "for item in myseries:\n",
    "    print(item)"
   ]
  },
  {
   "cell_type": "code",
   "execution_count": 25,
   "metadata": {},
   "outputs": [
    {
     "name": "stdout",
     "output_type": "stream",
     "text": [
      "sum= 16.5\n",
      "mean= 3.3\n",
      "min= 1.1\n",
      "max= 5.5\n"
     ]
    }
   ],
   "source": [
    "# unlike a list, basic numeric operations can be performed on the series\n",
    "# for example sum(), mean(), min(), max(), etc.\n",
    "print(\"sum=\", myseries.sum())\n",
    "print(\"mean=\", myseries.mean())\n",
    "print(\"min=\", myseries.min())\n",
    "print(\"max=\", myseries.max())"
   ]
  },
  {
   "cell_type": "code",
   "execution_count": 1,
   "metadata": {},
   "outputs": [],
   "source": [
    "# but... there's more, you can use index labels as an enumerator.\n",
    "s = pd.Series([1,2,3,4,5,6,7], index=['Mon', 'Tue', 'Wed', 'Thu','Fri', 'Sat', 'Sun'])"
   ]
  },
  {
   "cell_type": "code",
   "execution_count": 2,
   "metadata": {},
   "outputs": [
    {
     "data": {
      "text/plain": [
       "Mon    1\n",
       "Tue    2\n",
       "Wed    3\n",
       "Thu    4\n",
       "Fri    5\n",
       "Sat    6\n",
       "Sun    7\n",
       "dtype: int64"
      ]
     },
     "execution_count": 2,
     "metadata": {},
     "output_type": "execute_result"
    }
   ],
   "source": [
    "s"
   ]
  },
  {
   "cell_type": "code",
   "execution_count": 4,
   "metadata": {},
   "outputs": [
    {
     "data": {
      "text/plain": [
       "1"
      ]
     },
     "execution_count": 4,
     "metadata": {},
     "output_type": "execute_result"
    }
   ],
   "source": [
    "# notice we reference a single element with its integer index\n",
    "s[0]"
   ]
  },
  {
   "cell_type": "code",
   "execution_count": 5,
   "metadata": {},
   "outputs": [
    {
     "data": {
      "text/plain": [
       "1"
      ]
     },
     "execution_count": 5,
     "metadata": {},
     "output_type": "execute_result"
    }
   ],
   "source": [
    "# reference a single element with its corresponding list index token,\n",
    "# this can be a huge advantage in creating programs which are easy to read/maintain\n",
    "s['Mon']"
   ]
  },
  {
   "cell_type": "code",
   "execution_count": 26,
   "metadata": {},
   "outputs": [],
   "source": [
    "# a simple dictionary easily unfolds into a series\n",
    "salesdata = {'Jan':223,'Feb':280,'Mar':250,'Apr':507}\n",
    "salesSeries = pd.Series(salesdata)"
   ]
  },
  {
   "cell_type": "code",
   "execution_count": 27,
   "metadata": {},
   "outputs": [
    {
     "data": {
      "text/plain": [
       "Jan    223\n",
       "Feb    280\n",
       "Mar    250\n",
       "Apr    507\n",
       "dtype: int64"
      ]
     },
     "execution_count": 27,
     "metadata": {},
     "output_type": "execute_result"
    }
   ],
   "source": [
    "salesSeries"
   ]
  },
  {
   "cell_type": "code",
   "execution_count": 28,
   "metadata": {},
   "outputs": [
    {
     "data": {
      "text/plain": [
       "count      4.000000\n",
       "mean     315.000000\n",
       "std      130.099962\n",
       "min      223.000000\n",
       "25%      243.250000\n",
       "50%      265.000000\n",
       "75%      336.750000\n",
       "max      507.000000\n",
       "dtype: float64"
      ]
     },
     "execution_count": 28,
     "metadata": {},
     "output_type": "execute_result"
    }
   ],
   "source": [
    "salesSeries.describe()"
   ]
  },
  {
   "cell_type": "code",
   "execution_count": 29,
   "metadata": {},
   "outputs": [],
   "source": [
    "# an object dictionary is unwrapped to turn the top-level key/value pairs into\n",
    "# indices and data respectively.\n",
    "clubdict = {'joe':{'fname':'Joe','lname':'Lewis', 'class':'Heavyweight', 'wins':198, 'losses':5},\n",
    "           'ali':{'fname':'Muhammad','lname':'Ali', 'class':'Heavyweight'}}\n",
    "clubSeries = pd.Series(clubdict)"
   ]
  },
  {
   "cell_type": "code",
   "execution_count": 30,
   "metadata": {},
   "outputs": [
    {
     "data": {
      "text/plain": [
       "joe    {'fname': 'Joe', 'lname': 'Lewis', 'class': 'H...\n",
       "ali    {'fname': 'Muhammad', 'lname': 'Ali', 'class':...\n",
       "dtype: object"
      ]
     },
     "execution_count": 30,
     "metadata": {},
     "output_type": "execute_result"
    }
   ],
   "source": [
    "clubSeries"
   ]
  },
  {
   "cell_type": "code",
   "execution_count": 37,
   "metadata": {},
   "outputs": [],
   "source": [
    "# use of dictionary lists/sets is permitted as well\n",
    "progressDict = {'Mon':[2,5,6], 'Tue':[2,7,2], 'Wed':[3,3,6], 'trainers':{'mike','sally','pete'}}\n",
    "progressSeries = pd.Series(progressDict)"
   ]
  },
  {
   "cell_type": "code",
   "execution_count": 38,
   "metadata": {},
   "outputs": [
    {
     "data": {
      "text/plain": [
       "Mon                   [2, 5, 6]\n",
       "Tue                   [2, 7, 2]\n",
       "Wed                   [3, 3, 6]\n",
       "trainers    {pete, sally, mike}\n",
       "dtype: object"
      ]
     },
     "execution_count": 38,
     "metadata": {},
     "output_type": "execute_result"
    }
   ],
   "source": [
    "progressSeries"
   ]
  },
  {
   "cell_type": "code",
   "execution_count": 35,
   "metadata": {},
   "outputs": [
    {
     "data": {
      "text/plain": [
       "[2, 5, 6]"
      ]
     },
     "execution_count": 35,
     "metadata": {},
     "output_type": "execute_result"
    }
   ],
   "source": [
    "progressSeries['Mon']"
   ]
  },
  {
   "cell_type": "code",
   "execution_count": 39,
   "metadata": {},
   "outputs": [
    {
     "data": {
      "text/plain": [
       "{'mike', 'pete', 'sally'}"
      ]
     },
     "execution_count": 39,
     "metadata": {},
     "output_type": "execute_result"
    }
   ],
   "source": [
    "progressSeries['trainers']"
   ]
  }
 ],
 "metadata": {
  "kernelspec": {
   "display_name": "Python 3",
   "language": "python",
   "name": "python3"
  },
  "language_info": {
   "codemirror_mode": {
    "name": "ipython",
    "version": 3
   },
   "file_extension": ".py",
   "mimetype": "text/x-python",
   "name": "python",
   "nbconvert_exporter": "python",
   "pygments_lexer": "ipython3",
   "version": "3.6.5"
  }
 },
 "nbformat": 4,
 "nbformat_minor": 2
}
